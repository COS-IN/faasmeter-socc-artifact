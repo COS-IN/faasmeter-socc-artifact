{
 "cells": [
  {
   "cell_type": "code",
   "execution_count": 1,
   "id": "daaedd51",
   "metadata": {},
   "outputs": [
    {
     "name": "stderr",
     "output_type": "stream",
     "text": [
      "/tmp/ipykernel_128081/1119440127.py:3: DeprecationWarning: \n",
      "Pyarrow will become a required dependency of pandas in the next major release of pandas (pandas 3.0),\n",
      "(to allow more performant data types, such as the Arrow string type, and better interoperability with other libraries)\n",
      "but was not found to be installed on your system.\n",
      "If this would cause problems for you,\n",
      "please provide us feedback at https://github.com/pandas-dev/pandas/issues/54466\n",
      "        \n",
      "  import pandas as pd\n"
     ]
    }
   ],
   "source": [
    "import sys\n",
    "import numpy as np\n",
    "import pandas as pd"
   ]
  },
  {
   "cell_type": "code",
   "execution_count": 2,
   "id": "c1e868df",
   "metadata": {},
   "outputs": [],
   "source": [
    "sys.path.append(\"../\") # go to parent dir"
   ]
  },
  {
   "cell_type": "code",
   "execution_count": 3,
   "id": "2b401297",
   "metadata": {},
   "outputs": [],
   "source": [
    "from Logs_to_df import Logs_to_df"
   ]
  },
  {
   "cell_type": "code",
   "execution_count": 4,
   "id": "aca0463f",
   "metadata": {},
   "outputs": [
    {
     "name": "stdout",
     "output_type": "stream",
     "text": [
      "Platform server - analysis output_type full\n"
     ]
    },
    {
     "name": "stderr",
     "output_type": "stream",
     "text": [
      "rm: cannot remove '../../net_samples/1/dfs/*': No such file or directory\n"
     ]
    }
   ],
   "source": [
    "ldf = Logs_to_df(\"../../net_samples/1\", output_type='full')"
   ]
  },
  {
   "cell_type": "code",
   "execution_count": 5,
   "id": "e598a1d6",
   "metadata": {},
   "outputs": [],
   "source": [
    "ldf.output_type=\"full\"\n",
    "ldf.worker_log_to_df_ND()"
   ]
  },
  {
   "cell_type": "code",
   "execution_count": 6,
   "id": "9dfa3330",
   "metadata": {},
   "outputs": [],
   "source": [
    "wdf = ldf.worker_df"
   ]
  },
  {
   "cell_type": "code",
   "execution_count": null,
   "id": "d25735a3",
   "metadata": {},
   "outputs": [],
   "source": []
  },
  {
   "cell_type": "code",
   "execution_count": 7,
   "id": "e96fc5c2",
   "metadata": {},
   "outputs": [],
   "source": [
    "full_names = np.array(ldf.worker_df['fqdn'])"
   ]
  },
  {
   "cell_type": "code",
   "execution_count": null,
   "id": "79e86bf4",
   "metadata": {},
   "outputs": [],
   "source": []
  },
  {
   "cell_type": "code",
   "execution_count": 8,
   "id": "dd3a5b9e",
   "metadata": {},
   "outputs": [],
   "source": [
    "def collapse_similar_funcs(wdf):\n",
    "    #chameleon.CPU.0-0 -> chamleon \n",
    "    def rename_fqdn(fname):\n",
    "        return fname.split('.')[0]\n",
    "\n",
    "    wdf['fqdn'] = wdf['fqdn'].apply(rename_fqdn)\n",
    "    return wdf"
   ]
  },
  {
   "cell_type": "code",
   "execution_count": 9,
   "id": "5c6cb75b",
   "metadata": {},
   "outputs": [
    {
     "data": {
      "text/html": [
       "<div>\n",
       "<style scoped>\n",
       "    .dataframe tbody tr th:only-of-type {\n",
       "        vertical-align: middle;\n",
       "    }\n",
       "\n",
       "    .dataframe tbody tr th {\n",
       "        vertical-align: top;\n",
       "    }\n",
       "\n",
       "    .dataframe thead th {\n",
       "        text-align: right;\n",
       "    }\n",
       "</style>\n",
       "<table border=\"1\" class=\"dataframe\">\n",
       "  <thead>\n",
       "    <tr style=\"text-align: right;\">\n",
       "      <th></th>\n",
       "      <th>exec</th>\n",
       "      <th>network</th>\n",
       "      <th>char</th>\n",
       "      <th>time</th>\n",
       "      <th>disk</th>\n",
       "      <th>cpu</th>\n",
       "      <th>mem</th>\n",
       "      <th>fn_start</th>\n",
       "      <th>fn_end</th>\n",
       "      <th>fqdn</th>\n",
       "      <th>tid</th>\n",
       "    </tr>\n",
       "  </thead>\n",
       "  <tbody>\n",
       "    <tr>\n",
       "      <th>0</th>\n",
       "      <td>0.011425</td>\n",
       "      <td>7628.0</td>\n",
       "      <td>cold</td>\n",
       "      <td>0.751738</td>\n",
       "      <td>0.0</td>\n",
       "      <td>0.0</td>\n",
       "      <td>38662144.0</td>\n",
       "      <td>2024-02-21 10:29:28.675719032</td>\n",
       "      <td>2024-02-21 10:29:28.687144032</td>\n",
       "      <td>chameleon</td>\n",
       "      <td>1</td>\n",
       "    </tr>\n",
       "    <tr>\n",
       "      <th>1</th>\n",
       "      <td>0.022578</td>\n",
       "      <td>6554.0</td>\n",
       "      <td>warm</td>\n",
       "      <td>0.022578</td>\n",
       "      <td>0.0</td>\n",
       "      <td>0.0</td>\n",
       "      <td>38924288.0</td>\n",
       "      <td>2024-02-21 10:29:28.705401608</td>\n",
       "      <td>2024-02-21 10:29:28.727979608</td>\n",
       "      <td>chameleon</td>\n",
       "      <td>2</td>\n",
       "    </tr>\n",
       "    <tr>\n",
       "      <th>2</th>\n",
       "      <td>0.020055</td>\n",
       "      <td>6556.0</td>\n",
       "      <td>warm</td>\n",
       "      <td>0.020055</td>\n",
       "      <td>0.0</td>\n",
       "      <td>0.0</td>\n",
       "      <td>39055360.0</td>\n",
       "      <td>2024-02-21 10:29:28.743875104</td>\n",
       "      <td>2024-02-21 10:29:28.763930104</td>\n",
       "      <td>chameleon</td>\n",
       "      <td>3</td>\n",
       "    </tr>\n",
       "    <tr>\n",
       "      <th>3</th>\n",
       "      <td>0.017220</td>\n",
       "      <td>6549.0</td>\n",
       "      <td>warm</td>\n",
       "      <td>0.017220</td>\n",
       "      <td>0.0</td>\n",
       "      <td>0.0</td>\n",
       "      <td>39186432.0</td>\n",
       "      <td>2024-02-21 10:29:28.779062078</td>\n",
       "      <td>2024-02-21 10:29:28.796282078</td>\n",
       "      <td>chameleon</td>\n",
       "      <td>4</td>\n",
       "    </tr>\n",
       "    <tr>\n",
       "      <th>4</th>\n",
       "      <td>0.042363</td>\n",
       "      <td>6554.0</td>\n",
       "      <td>warm</td>\n",
       "      <td>0.042363</td>\n",
       "      <td>0.0</td>\n",
       "      <td>0.0</td>\n",
       "      <td>41676800.0</td>\n",
       "      <td>2024-02-21 10:29:28.811561748</td>\n",
       "      <td>2024-02-21 10:29:28.853924748</td>\n",
       "      <td>chameleon</td>\n",
       "      <td>5</td>\n",
       "    </tr>\n",
       "    <tr>\n",
       "      <th>...</th>\n",
       "      <td>...</td>\n",
       "      <td>...</td>\n",
       "      <td>...</td>\n",
       "      <td>...</td>\n",
       "      <td>...</td>\n",
       "      <td>...</td>\n",
       "      <td>...</td>\n",
       "      <td>...</td>\n",
       "      <td>...</td>\n",
       "      <td>...</td>\n",
       "      <td>...</td>\n",
       "    </tr>\n",
       "    <tr>\n",
       "      <th>215</th>\n",
       "      <td>1.979680</td>\n",
       "      <td>15406.0</td>\n",
       "      <td>warm</td>\n",
       "      <td>1.979680</td>\n",
       "      <td>0.0</td>\n",
       "      <td>0.0</td>\n",
       "      <td>355848192.0</td>\n",
       "      <td>2024-02-21 10:32:52.097842650</td>\n",
       "      <td>2024-02-21 10:32:54.077522650</td>\n",
       "      <td>cnn_image_classification</td>\n",
       "      <td>216</td>\n",
       "    </tr>\n",
       "    <tr>\n",
       "      <th>216</th>\n",
       "      <td>1.842575</td>\n",
       "      <td>13229.0</td>\n",
       "      <td>warm</td>\n",
       "      <td>1.842575</td>\n",
       "      <td>0.0</td>\n",
       "      <td>0.0</td>\n",
       "      <td>370651136.0</td>\n",
       "      <td>2024-02-21 10:32:54.095462142</td>\n",
       "      <td>2024-02-21 10:32:55.938037142</td>\n",
       "      <td>cnn_image_classification</td>\n",
       "      <td>217</td>\n",
       "    </tr>\n",
       "    <tr>\n",
       "      <th>217</th>\n",
       "      <td>1.881533</td>\n",
       "      <td>12766.0</td>\n",
       "      <td>warm</td>\n",
       "      <td>1.881533</td>\n",
       "      <td>0.0</td>\n",
       "      <td>0.0</td>\n",
       "      <td>384143360.0</td>\n",
       "      <td>2024-02-21 10:32:55.955618748</td>\n",
       "      <td>2024-02-21 10:32:57.837151748</td>\n",
       "      <td>cnn_image_classification</td>\n",
       "      <td>218</td>\n",
       "    </tr>\n",
       "    <tr>\n",
       "      <th>218</th>\n",
       "      <td>1.963585</td>\n",
       "      <td>14879.0</td>\n",
       "      <td>warm</td>\n",
       "      <td>1.963585</td>\n",
       "      <td>0.0</td>\n",
       "      <td>0.0</td>\n",
       "      <td>399564800.0</td>\n",
       "      <td>2024-02-21 10:32:57.855324099</td>\n",
       "      <td>2024-02-21 10:32:59.818909099</td>\n",
       "      <td>cnn_image_classification</td>\n",
       "      <td>219</td>\n",
       "    </tr>\n",
       "    <tr>\n",
       "      <th>219</th>\n",
       "      <td>2.018913</td>\n",
       "      <td>13227.0</td>\n",
       "      <td>warm</td>\n",
       "      <td>2.018913</td>\n",
       "      <td>0.0</td>\n",
       "      <td>0.0</td>\n",
       "      <td>414343168.0</td>\n",
       "      <td>2024-02-21 10:32:59.838215516</td>\n",
       "      <td>2024-02-21 10:33:01.857128516</td>\n",
       "      <td>cnn_image_classification</td>\n",
       "      <td>220</td>\n",
       "    </tr>\n",
       "  </tbody>\n",
       "</table>\n",
       "<p>220 rows × 11 columns</p>\n",
       "</div>"
      ],
      "text/plain": [
       "         exec  network  char      time  disk  cpu          mem  \\\n",
       "0    0.011425   7628.0  cold  0.751738   0.0  0.0   38662144.0   \n",
       "1    0.022578   6554.0  warm  0.022578   0.0  0.0   38924288.0   \n",
       "2    0.020055   6556.0  warm  0.020055   0.0  0.0   39055360.0   \n",
       "3    0.017220   6549.0  warm  0.017220   0.0  0.0   39186432.0   \n",
       "4    0.042363   6554.0  warm  0.042363   0.0  0.0   41676800.0   \n",
       "..        ...      ...   ...       ...   ...  ...          ...   \n",
       "215  1.979680  15406.0  warm  1.979680   0.0  0.0  355848192.0   \n",
       "216  1.842575  13229.0  warm  1.842575   0.0  0.0  370651136.0   \n",
       "217  1.881533  12766.0  warm  1.881533   0.0  0.0  384143360.0   \n",
       "218  1.963585  14879.0  warm  1.963585   0.0  0.0  399564800.0   \n",
       "219  2.018913  13227.0  warm  2.018913   0.0  0.0  414343168.0   \n",
       "\n",
       "                         fn_start                        fn_end  \\\n",
       "0   2024-02-21 10:29:28.675719032 2024-02-21 10:29:28.687144032   \n",
       "1   2024-02-21 10:29:28.705401608 2024-02-21 10:29:28.727979608   \n",
       "2   2024-02-21 10:29:28.743875104 2024-02-21 10:29:28.763930104   \n",
       "3   2024-02-21 10:29:28.779062078 2024-02-21 10:29:28.796282078   \n",
       "4   2024-02-21 10:29:28.811561748 2024-02-21 10:29:28.853924748   \n",
       "..                            ...                           ...   \n",
       "215 2024-02-21 10:32:52.097842650 2024-02-21 10:32:54.077522650   \n",
       "216 2024-02-21 10:32:54.095462142 2024-02-21 10:32:55.938037142   \n",
       "217 2024-02-21 10:32:55.955618748 2024-02-21 10:32:57.837151748   \n",
       "218 2024-02-21 10:32:57.855324099 2024-02-21 10:32:59.818909099   \n",
       "219 2024-02-21 10:32:59.838215516 2024-02-21 10:33:01.857128516   \n",
       "\n",
       "                         fqdn  tid  \n",
       "0                   chameleon    1  \n",
       "1                   chameleon    2  \n",
       "2                   chameleon    3  \n",
       "3                   chameleon    4  \n",
       "4                   chameleon    5  \n",
       "..                        ...  ...  \n",
       "215  cnn_image_classification  216  \n",
       "216  cnn_image_classification  217  \n",
       "217  cnn_image_classification  218  \n",
       "218  cnn_image_classification  219  \n",
       "219  cnn_image_classification  220  \n",
       "\n",
       "[220 rows x 11 columns]"
      ]
     },
     "execution_count": 9,
     "metadata": {},
     "output_type": "execute_result"
    }
   ],
   "source": [
    "collapse_similar_funcs(wdf)"
   ]
  },
  {
   "cell_type": "code",
   "execution_count": 10,
   "id": "4cdbf885",
   "metadata": {},
   "outputs": [
    {
     "data": {
      "text/plain": [
       "2"
      ]
     },
     "execution_count": 10,
     "metadata": {},
     "output_type": "execute_result"
    }
   ],
   "source": [
    "ldf.M"
   ]
  },
  {
   "cell_type": "code",
   "execution_count": 11,
   "id": "d84871c7",
   "metadata": {},
   "outputs": [
    {
     "data": {
      "text/plain": [
       "['cnn_image_classification', 'chameleon']"
      ]
     },
     "execution_count": 11,
     "metadata": {},
     "output_type": "execute_result"
    }
   ],
   "source": [
    "ldf.princip_list"
   ]
  },
  {
   "cell_type": "code",
   "execution_count": 12,
   "id": "ed4a1f77",
   "metadata": {},
   "outputs": [],
   "source": [
    "from disaggregation import core"
   ]
  },
  {
   "cell_type": "code",
   "execution_count": 13,
   "id": "c6dc32d3",
   "metadata": {},
   "outputs": [],
   "source": [
    "cor = core.Core(ldf)"
   ]
  },
  {
   "cell_type": "code",
   "execution_count": 14,
   "id": "00b9417c",
   "metadata": {},
   "outputs": [
    {
     "data": {
      "text/plain": [
       "array([110., 110.])"
      ]
     },
     "execution_count": 14,
     "metadata": {},
     "output_type": "execute_result"
    }
   ],
   "source": [
    "cor.summarize_trace()"
   ]
  },
  {
   "cell_type": "code",
   "execution_count": 15,
   "id": "ab08e120",
   "metadata": {},
   "outputs": [
    {
     "data": {
      "text/plain": [
       "array([0.      , 0.226429])"
      ]
     },
     "execution_count": 15,
     "metadata": {},
     "output_type": "execute_result"
    }
   ],
   "source": [
    "ts = cor.get_start_ts()\n",
    "t1 = ts + pd.Timedelta(seconds=1)\n",
    "t2 = t1 + pd.Timedelta(seconds=1)\n",
    "t3 = t2 + pd.Timedelta(seconds=1)\n",
    "t = t1 \n",
    "cor.get_C_row(t, 1)"
   ]
  },
  {
   "cell_type": "code",
   "execution_count": 16,
   "id": "d344e6e2",
   "metadata": {},
   "outputs": [],
   "source": [
    "def get_all_resource_vec(t, delta):\n",
    "    out = [] \n",
    "    dimensions = ['exec','network', 'mem']\n",
    "    for kind in dimensions:\n",
    "        one_feat = cor.get_resource_row(t, delta, kind)\n",
    "        out.append(one_feat)\n",
    "    return out "
   ]
  },
  {
   "cell_type": "code",
   "execution_count": 17,
   "id": "b0679ff0",
   "metadata": {},
   "outputs": [],
   "source": [
    "R1 = cor.get_R_row(t1, 1)"
   ]
  },
  {
   "cell_type": "code",
   "execution_count": 18,
   "id": "7e3c4560",
   "metadata": {},
   "outputs": [],
   "source": [
    "R2 = cor.get_R_row(t2, 1)\n",
    "R3 = cor.get_R_row(t3, 1)"
   ]
  },
  {
   "cell_type": "code",
   "execution_count": 19,
   "id": "63e3111e",
   "metadata": {},
   "outputs": [
    {
     "data": {
      "text/plain": [
       "(2, 1, 2)"
      ]
     },
     "execution_count": 19,
     "metadata": {},
     "output_type": "execute_result"
    }
   ],
   "source": [
    "R1.shape"
   ]
  },
  {
   "cell_type": "code",
   "execution_count": 20,
   "id": "2f8519f3",
   "metadata": {},
   "outputs": [
    {
     "data": {
      "text/plain": [
       "array([[    0., 73174.]])"
      ]
     },
     "execution_count": 20,
     "metadata": {},
     "output_type": "execute_result"
    }
   ],
   "source": [
    "R1[1]"
   ]
  },
  {
   "cell_type": "code",
   "execution_count": 21,
   "id": "ff366f42",
   "metadata": {},
   "outputs": [
    {
     "data": {
      "text/plain": [
       "array([[[0.00000e+00, 2.26429e-01]],\n",
       "\n",
       "       [[0.00000e+00, 7.31740e+04]],\n",
       "\n",
       "       [[0.00000e+00, 2.30997e-01]],\n",
       "\n",
       "       [[0.00000e+00, 7.26100e+04]]])"
      ]
     },
     "execution_count": 21,
     "metadata": {},
     "output_type": "execute_result"
    }
   ],
   "source": [
    "np.vstack([R1, R2])"
   ]
  },
  {
   "cell_type": "code",
   "execution_count": 22,
   "id": "dedcf8c4",
   "metadata": {},
   "outputs": [
    {
     "data": {
      "text/plain": [
       "array([[[0.00000e+00, 2.26429e-01],\n",
       "        [0.00000e+00, 2.30997e-01],\n",
       "        [0.00000e+00, 2.29730e-01]],\n",
       "\n",
       "       [[0.00000e+00, 7.31740e+04],\n",
       "        [0.00000e+00, 7.26100e+04],\n",
       "        [0.00000e+00, 7.26200e+04]]])"
      ]
     },
     "execution_count": 22,
     "metadata": {},
     "output_type": "execute_result"
    }
   ],
   "source": [
    "np.hstack([R1, R2, R3])"
   ]
  },
  {
   "cell_type": "code",
   "execution_count": null,
   "id": "c3aeb926",
   "metadata": {},
   "outputs": [],
   "source": []
  },
  {
   "cell_type": "code",
   "execution_count": 24,
   "id": "52221038",
   "metadata": {},
   "outputs": [
    {
     "ename": "NameError",
     "evalue": "name 'c' is not defined",
     "output_type": "error",
     "traceback": [
      "\u001b[0;31m---------------------------------------------------------------------------\u001b[0m",
      "\u001b[0;31mNameError\u001b[0m                                 Traceback (most recent call last)",
      "Cell \u001b[0;32mIn[24], line 1\u001b[0m\n\u001b[0;32m----> 1\u001b[0m \u001b[43mc\u001b[49m\u001b[38;5;241m.\u001b[39mshape\n",
      "\u001b[0;31mNameError\u001b[0m: name 'c' is not defined"
     ]
    }
   ],
   "source": [
    "c.shape"
   ]
  },
  {
   "cell_type": "code",
   "execution_count": 25,
   "id": "dc659467",
   "metadata": {},
   "outputs": [
    {
     "ename": "NameError",
     "evalue": "name 'c' is not defined",
     "output_type": "error",
     "traceback": [
      "\u001b[0;31m---------------------------------------------------------------------------\u001b[0m",
      "\u001b[0;31mNameError\u001b[0m                                 Traceback (most recent call last)",
      "Cell \u001b[0;32mIn[25], line 1\u001b[0m\n\u001b[0;32m----> 1\u001b[0m np\u001b[38;5;241m.\u001b[39mreshape(\u001b[43mc\u001b[49m,(\u001b[38;5;241m2\u001b[39m,\u001b[38;5;241m1\u001b[39m))\n",
      "\u001b[0;31mNameError\u001b[0m: name 'c' is not defined"
     ]
    }
   ],
   "source": [
    "np.reshape(c,(2,1))"
   ]
  },
  {
   "cell_type": "code",
   "execution_count": 26,
   "id": "9f665905",
   "metadata": {},
   "outputs": [],
   "source": [
    "C = cor.build_A_matrix(ts, 10, 1)"
   ]
  },
  {
   "cell_type": "code",
   "execution_count": 27,
   "id": "6e35323d",
   "metadata": {},
   "outputs": [
    {
     "data": {
      "text/plain": [
       "(10, 2)"
      ]
     },
     "execution_count": 27,
     "metadata": {},
     "output_type": "execute_result"
    }
   ],
   "source": [
    "C.shape"
   ]
  },
  {
   "cell_type": "code",
   "execution_count": 28,
   "id": "0455b0d8",
   "metadata": {},
   "outputs": [],
   "source": [
    "R = np.concatenate((R1,R2,R3),axis=1)"
   ]
  },
  {
   "cell_type": "code",
   "execution_count": 29,
   "id": "589845b0",
   "metadata": {},
   "outputs": [
    {
     "data": {
      "text/plain": [
       "array([0.      , 0.226429])"
      ]
     },
     "execution_count": 29,
     "metadata": {},
     "output_type": "execute_result"
    }
   ],
   "source": [
    "R[0][0]"
   ]
  },
  {
   "cell_type": "code",
   "execution_count": 30,
   "id": "219c9657",
   "metadata": {},
   "outputs": [],
   "source": [
    "R = cor.build_A_matrix(ts, 10, 1, \"R\")"
   ]
  },
  {
   "cell_type": "code",
   "execution_count": 31,
   "id": "9c240709",
   "metadata": {},
   "outputs": [],
   "source": [
    "W = np.random.rand((10))"
   ]
  },
  {
   "cell_type": "code",
   "execution_count": 32,
   "id": "d5853701",
   "metadata": {},
   "outputs": [
    {
     "data": {
      "text/plain": [
       "array([0.91223799, 0.30507014, 0.33775991, 0.76068282, 0.96808178,\n",
       "       0.68412384, 0.93305509, 0.4856037 , 0.68553665, 0.30239815])"
      ]
     },
     "execution_count": 32,
     "metadata": {},
     "output_type": "execute_result"
    }
   ],
   "source": [
    "W"
   ]
  },
  {
   "cell_type": "code",
   "execution_count": null,
   "id": "27cc2893",
   "metadata": {},
   "outputs": [],
   "source": [
    "import cvxpy as cp"
   ]
  },
  {
   "cell_type": "code",
   "execution_count": null,
   "id": "dc8aa78c",
   "metadata": {},
   "outputs": [],
   "source": [
    "M = 2\n",
    "x = cp.Variable((M,2))"
   ]
  },
  {
   "cell_type": "code",
   "execution_count": null,
   "id": "8baa9953",
   "metadata": {},
   "outputs": [],
   "source": [
    "cost = cp.sum_squares(R @ x-W)"
   ]
  },
  {
   "cell_type": "code",
   "execution_count": null,
   "id": "bb25de42",
   "metadata": {},
   "outputs": [],
   "source": [
    "R.shape"
   ]
  },
  {
   "cell_type": "code",
   "execution_count": null,
   "id": "a89c502b",
   "metadata": {},
   "outputs": [],
   "source": [
    "import scipy\n",
    "import scipy.optimize"
   ]
  },
  {
   "cell_type": "code",
   "execution_count": null,
   "id": "802242e4",
   "metadata": {},
   "outputs": [],
   "source": [
    "scipy.optimize.lsq_linear("
   ]
  },
  {
   "cell_type": "code",
   "execution_count": 33,
   "id": "bb0e6965",
   "metadata": {},
   "outputs": [],
   "source": [
    "import sklearn"
   ]
  },
  {
   "cell_type": "code",
   "execution_count": 34,
   "id": "0a14e725",
   "metadata": {},
   "outputs": [],
   "source": [
    "from sklearn import linear_model"
   ]
  },
  {
   "cell_type": "code",
   "execution_count": 35,
   "id": "c0fc9c37",
   "metadata": {},
   "outputs": [],
   "source": [
    "reg = linear_model.LinearRegression()"
   ]
  },
  {
   "cell_type": "code",
   "execution_count": 36,
   "id": "fee52497",
   "metadata": {},
   "outputs": [
    {
     "ename": "ValueError",
     "evalue": "Found array with dim 3. LinearRegression expected <= 2.",
     "output_type": "error",
     "traceback": [
      "\u001b[0;31m---------------------------------------------------------------------------\u001b[0m",
      "\u001b[0;31mValueError\u001b[0m                                Traceback (most recent call last)",
      "Cell \u001b[0;32mIn[36], line 1\u001b[0m\n\u001b[0;32m----> 1\u001b[0m \u001b[43mreg\u001b[49m\u001b[38;5;241;43m.\u001b[39;49m\u001b[43mfit\u001b[49m\u001b[43m(\u001b[49m\u001b[43mR\u001b[49m\u001b[43m,\u001b[49m\u001b[43m \u001b[49m\u001b[43mW\u001b[49m\u001b[43m)\u001b[49m\n",
      "File \u001b[0;32m~/code/faasmeter/faasmeter/fm/lib/python3.9/site-packages/sklearn/base.py:1474\u001b[0m, in \u001b[0;36m_fit_context.<locals>.decorator.<locals>.wrapper\u001b[0;34m(estimator, *args, **kwargs)\u001b[0m\n\u001b[1;32m   1467\u001b[0m     estimator\u001b[38;5;241m.\u001b[39m_validate_params()\n\u001b[1;32m   1469\u001b[0m \u001b[38;5;28;01mwith\u001b[39;00m config_context(\n\u001b[1;32m   1470\u001b[0m     skip_parameter_validation\u001b[38;5;241m=\u001b[39m(\n\u001b[1;32m   1471\u001b[0m         prefer_skip_nested_validation \u001b[38;5;129;01mor\u001b[39;00m global_skip_validation\n\u001b[1;32m   1472\u001b[0m     )\n\u001b[1;32m   1473\u001b[0m ):\n\u001b[0;32m-> 1474\u001b[0m     \u001b[38;5;28;01mreturn\u001b[39;00m \u001b[43mfit_method\u001b[49m\u001b[43m(\u001b[49m\u001b[43mestimator\u001b[49m\u001b[43m,\u001b[49m\u001b[43m \u001b[49m\u001b[38;5;241;43m*\u001b[39;49m\u001b[43margs\u001b[49m\u001b[43m,\u001b[49m\u001b[43m \u001b[49m\u001b[38;5;241;43m*\u001b[39;49m\u001b[38;5;241;43m*\u001b[39;49m\u001b[43mkwargs\u001b[49m\u001b[43m)\u001b[49m\n",
      "File \u001b[0;32m~/code/faasmeter/faasmeter/fm/lib/python3.9/site-packages/sklearn/linear_model/_base.py:578\u001b[0m, in \u001b[0;36mLinearRegression.fit\u001b[0;34m(self, X, y, sample_weight)\u001b[0m\n\u001b[1;32m    574\u001b[0m n_jobs_ \u001b[38;5;241m=\u001b[39m \u001b[38;5;28mself\u001b[39m\u001b[38;5;241m.\u001b[39mn_jobs\n\u001b[1;32m    576\u001b[0m accept_sparse \u001b[38;5;241m=\u001b[39m \u001b[38;5;28;01mFalse\u001b[39;00m \u001b[38;5;28;01mif\u001b[39;00m \u001b[38;5;28mself\u001b[39m\u001b[38;5;241m.\u001b[39mpositive \u001b[38;5;28;01melse\u001b[39;00m [\u001b[38;5;124m\"\u001b[39m\u001b[38;5;124mcsr\u001b[39m\u001b[38;5;124m\"\u001b[39m, \u001b[38;5;124m\"\u001b[39m\u001b[38;5;124mcsc\u001b[39m\u001b[38;5;124m\"\u001b[39m, \u001b[38;5;124m\"\u001b[39m\u001b[38;5;124mcoo\u001b[39m\u001b[38;5;124m\"\u001b[39m]\n\u001b[0;32m--> 578\u001b[0m X, y \u001b[38;5;241m=\u001b[39m \u001b[38;5;28;43mself\u001b[39;49m\u001b[38;5;241;43m.\u001b[39;49m\u001b[43m_validate_data\u001b[49m\u001b[43m(\u001b[49m\n\u001b[1;32m    579\u001b[0m \u001b[43m    \u001b[49m\u001b[43mX\u001b[49m\u001b[43m,\u001b[49m\u001b[43m \u001b[49m\u001b[43my\u001b[49m\u001b[43m,\u001b[49m\u001b[43m \u001b[49m\u001b[43maccept_sparse\u001b[49m\u001b[38;5;241;43m=\u001b[39;49m\u001b[43maccept_sparse\u001b[49m\u001b[43m,\u001b[49m\u001b[43m \u001b[49m\u001b[43my_numeric\u001b[49m\u001b[38;5;241;43m=\u001b[39;49m\u001b[38;5;28;43;01mTrue\u001b[39;49;00m\u001b[43m,\u001b[49m\u001b[43m \u001b[49m\u001b[43mmulti_output\u001b[49m\u001b[38;5;241;43m=\u001b[39;49m\u001b[38;5;28;43;01mTrue\u001b[39;49;00m\n\u001b[1;32m    580\u001b[0m \u001b[43m\u001b[49m\u001b[43m)\u001b[49m\n\u001b[1;32m    582\u001b[0m has_sw \u001b[38;5;241m=\u001b[39m sample_weight \u001b[38;5;129;01mis\u001b[39;00m \u001b[38;5;129;01mnot\u001b[39;00m \u001b[38;5;28;01mNone\u001b[39;00m\n\u001b[1;32m    583\u001b[0m \u001b[38;5;28;01mif\u001b[39;00m has_sw:\n",
      "File \u001b[0;32m~/code/faasmeter/faasmeter/fm/lib/python3.9/site-packages/sklearn/base.py:650\u001b[0m, in \u001b[0;36mBaseEstimator._validate_data\u001b[0;34m(self, X, y, reset, validate_separately, cast_to_ndarray, **check_params)\u001b[0m\n\u001b[1;32m    648\u001b[0m         y \u001b[38;5;241m=\u001b[39m check_array(y, input_name\u001b[38;5;241m=\u001b[39m\u001b[38;5;124m\"\u001b[39m\u001b[38;5;124my\u001b[39m\u001b[38;5;124m\"\u001b[39m, \u001b[38;5;241m*\u001b[39m\u001b[38;5;241m*\u001b[39mcheck_y_params)\n\u001b[1;32m    649\u001b[0m     \u001b[38;5;28;01melse\u001b[39;00m:\n\u001b[0;32m--> 650\u001b[0m         X, y \u001b[38;5;241m=\u001b[39m \u001b[43mcheck_X_y\u001b[49m\u001b[43m(\u001b[49m\u001b[43mX\u001b[49m\u001b[43m,\u001b[49m\u001b[43m \u001b[49m\u001b[43my\u001b[49m\u001b[43m,\u001b[49m\u001b[43m \u001b[49m\u001b[38;5;241;43m*\u001b[39;49m\u001b[38;5;241;43m*\u001b[39;49m\u001b[43mcheck_params\u001b[49m\u001b[43m)\u001b[49m\n\u001b[1;32m    651\u001b[0m     out \u001b[38;5;241m=\u001b[39m X, y\n\u001b[1;32m    653\u001b[0m \u001b[38;5;28;01mif\u001b[39;00m \u001b[38;5;129;01mnot\u001b[39;00m no_val_X \u001b[38;5;129;01mand\u001b[39;00m check_params\u001b[38;5;241m.\u001b[39mget(\u001b[38;5;124m\"\u001b[39m\u001b[38;5;124mensure_2d\u001b[39m\u001b[38;5;124m\"\u001b[39m, \u001b[38;5;28;01mTrue\u001b[39;00m):\n",
      "File \u001b[0;32m~/code/faasmeter/faasmeter/fm/lib/python3.9/site-packages/sklearn/utils/validation.py:1263\u001b[0m, in \u001b[0;36mcheck_X_y\u001b[0;34m(X, y, accept_sparse, accept_large_sparse, dtype, order, copy, force_all_finite, ensure_2d, allow_nd, multi_output, ensure_min_samples, ensure_min_features, y_numeric, estimator)\u001b[0m\n\u001b[1;32m   1258\u001b[0m         estimator_name \u001b[38;5;241m=\u001b[39m _check_estimator_name(estimator)\n\u001b[1;32m   1259\u001b[0m     \u001b[38;5;28;01mraise\u001b[39;00m \u001b[38;5;167;01mValueError\u001b[39;00m(\n\u001b[1;32m   1260\u001b[0m         \u001b[38;5;124mf\u001b[39m\u001b[38;5;124m\"\u001b[39m\u001b[38;5;132;01m{\u001b[39;00mestimator_name\u001b[38;5;132;01m}\u001b[39;00m\u001b[38;5;124m requires y to be passed, but the target y is None\u001b[39m\u001b[38;5;124m\"\u001b[39m\n\u001b[1;32m   1261\u001b[0m     )\n\u001b[0;32m-> 1263\u001b[0m X \u001b[38;5;241m=\u001b[39m \u001b[43mcheck_array\u001b[49m\u001b[43m(\u001b[49m\n\u001b[1;32m   1264\u001b[0m \u001b[43m    \u001b[49m\u001b[43mX\u001b[49m\u001b[43m,\u001b[49m\n\u001b[1;32m   1265\u001b[0m \u001b[43m    \u001b[49m\u001b[43maccept_sparse\u001b[49m\u001b[38;5;241;43m=\u001b[39;49m\u001b[43maccept_sparse\u001b[49m\u001b[43m,\u001b[49m\n\u001b[1;32m   1266\u001b[0m \u001b[43m    \u001b[49m\u001b[43maccept_large_sparse\u001b[49m\u001b[38;5;241;43m=\u001b[39;49m\u001b[43maccept_large_sparse\u001b[49m\u001b[43m,\u001b[49m\n\u001b[1;32m   1267\u001b[0m \u001b[43m    \u001b[49m\u001b[43mdtype\u001b[49m\u001b[38;5;241;43m=\u001b[39;49m\u001b[43mdtype\u001b[49m\u001b[43m,\u001b[49m\n\u001b[1;32m   1268\u001b[0m \u001b[43m    \u001b[49m\u001b[43morder\u001b[49m\u001b[38;5;241;43m=\u001b[39;49m\u001b[43morder\u001b[49m\u001b[43m,\u001b[49m\n\u001b[1;32m   1269\u001b[0m \u001b[43m    \u001b[49m\u001b[43mcopy\u001b[49m\u001b[38;5;241;43m=\u001b[39;49m\u001b[43mcopy\u001b[49m\u001b[43m,\u001b[49m\n\u001b[1;32m   1270\u001b[0m \u001b[43m    \u001b[49m\u001b[43mforce_all_finite\u001b[49m\u001b[38;5;241;43m=\u001b[39;49m\u001b[43mforce_all_finite\u001b[49m\u001b[43m,\u001b[49m\n\u001b[1;32m   1271\u001b[0m \u001b[43m    \u001b[49m\u001b[43mensure_2d\u001b[49m\u001b[38;5;241;43m=\u001b[39;49m\u001b[43mensure_2d\u001b[49m\u001b[43m,\u001b[49m\n\u001b[1;32m   1272\u001b[0m \u001b[43m    \u001b[49m\u001b[43mallow_nd\u001b[49m\u001b[38;5;241;43m=\u001b[39;49m\u001b[43mallow_nd\u001b[49m\u001b[43m,\u001b[49m\n\u001b[1;32m   1273\u001b[0m \u001b[43m    \u001b[49m\u001b[43mensure_min_samples\u001b[49m\u001b[38;5;241;43m=\u001b[39;49m\u001b[43mensure_min_samples\u001b[49m\u001b[43m,\u001b[49m\n\u001b[1;32m   1274\u001b[0m \u001b[43m    \u001b[49m\u001b[43mensure_min_features\u001b[49m\u001b[38;5;241;43m=\u001b[39;49m\u001b[43mensure_min_features\u001b[49m\u001b[43m,\u001b[49m\n\u001b[1;32m   1275\u001b[0m \u001b[43m    \u001b[49m\u001b[43mestimator\u001b[49m\u001b[38;5;241;43m=\u001b[39;49m\u001b[43mestimator\u001b[49m\u001b[43m,\u001b[49m\n\u001b[1;32m   1276\u001b[0m \u001b[43m    \u001b[49m\u001b[43minput_name\u001b[49m\u001b[38;5;241;43m=\u001b[39;49m\u001b[38;5;124;43m\"\u001b[39;49m\u001b[38;5;124;43mX\u001b[39;49m\u001b[38;5;124;43m\"\u001b[39;49m\u001b[43m,\u001b[49m\n\u001b[1;32m   1277\u001b[0m \u001b[43m\u001b[49m\u001b[43m)\u001b[49m\n\u001b[1;32m   1279\u001b[0m y \u001b[38;5;241m=\u001b[39m _check_y(y, multi_output\u001b[38;5;241m=\u001b[39mmulti_output, y_numeric\u001b[38;5;241m=\u001b[39my_numeric, estimator\u001b[38;5;241m=\u001b[39mestimator)\n\u001b[1;32m   1281\u001b[0m check_consistent_length(X, y)\n",
      "File \u001b[0;32m~/code/faasmeter/faasmeter/fm/lib/python3.9/site-packages/sklearn/utils/validation.py:1043\u001b[0m, in \u001b[0;36mcheck_array\u001b[0;34m(array, accept_sparse, accept_large_sparse, dtype, order, copy, force_all_finite, ensure_2d, allow_nd, ensure_min_samples, ensure_min_features, estimator, input_name)\u001b[0m\n\u001b[1;32m   1038\u001b[0m     \u001b[38;5;28;01mraise\u001b[39;00m \u001b[38;5;167;01mValueError\u001b[39;00m(\n\u001b[1;32m   1039\u001b[0m         \u001b[38;5;124m\"\u001b[39m\u001b[38;5;124mdtype=\u001b[39m\u001b[38;5;124m'\u001b[39m\u001b[38;5;124mnumeric\u001b[39m\u001b[38;5;124m'\u001b[39m\u001b[38;5;124m is not compatible with arrays of bytes/strings.\u001b[39m\u001b[38;5;124m\"\u001b[39m\n\u001b[1;32m   1040\u001b[0m         \u001b[38;5;124m\"\u001b[39m\u001b[38;5;124mConvert your data to numeric values explicitly instead.\u001b[39m\u001b[38;5;124m\"\u001b[39m\n\u001b[1;32m   1041\u001b[0m     )\n\u001b[1;32m   1042\u001b[0m \u001b[38;5;28;01mif\u001b[39;00m \u001b[38;5;129;01mnot\u001b[39;00m allow_nd \u001b[38;5;129;01mand\u001b[39;00m array\u001b[38;5;241m.\u001b[39mndim \u001b[38;5;241m>\u001b[39m\u001b[38;5;241m=\u001b[39m \u001b[38;5;241m3\u001b[39m:\n\u001b[0;32m-> 1043\u001b[0m     \u001b[38;5;28;01mraise\u001b[39;00m \u001b[38;5;167;01mValueError\u001b[39;00m(\n\u001b[1;32m   1044\u001b[0m         \u001b[38;5;124m\"\u001b[39m\u001b[38;5;124mFound array with dim \u001b[39m\u001b[38;5;132;01m%d\u001b[39;00m\u001b[38;5;124m. \u001b[39m\u001b[38;5;132;01m%s\u001b[39;00m\u001b[38;5;124m expected <= 2.\u001b[39m\u001b[38;5;124m\"\u001b[39m\n\u001b[1;32m   1045\u001b[0m         \u001b[38;5;241m%\u001b[39m (array\u001b[38;5;241m.\u001b[39mndim, estimator_name)\n\u001b[1;32m   1046\u001b[0m     )\n\u001b[1;32m   1048\u001b[0m \u001b[38;5;28;01mif\u001b[39;00m force_all_finite:\n\u001b[1;32m   1049\u001b[0m     _assert_all_finite(\n\u001b[1;32m   1050\u001b[0m         array,\n\u001b[1;32m   1051\u001b[0m         input_name\u001b[38;5;241m=\u001b[39minput_name,\n\u001b[1;32m   1052\u001b[0m         estimator_name\u001b[38;5;241m=\u001b[39mestimator_name,\n\u001b[1;32m   1053\u001b[0m         allow_nan\u001b[38;5;241m=\u001b[39mforce_all_finite \u001b[38;5;241m==\u001b[39m \u001b[38;5;124m\"\u001b[39m\u001b[38;5;124mallow-nan\u001b[39m\u001b[38;5;124m\"\u001b[39m,\n\u001b[1;32m   1054\u001b[0m     )\n",
      "\u001b[0;31mValueError\u001b[0m: Found array with dim 3. LinearRegression expected <= 2."
     ]
    }
   ],
   "source": [
    "reg.fit(R, W)"
   ]
  },
  {
   "cell_type": "code",
   "execution_count": null,
   "id": "10cb92d1",
   "metadata": {},
   "outputs": [],
   "source": []
  }
 ],
 "metadata": {
  "kernelspec": {
   "display_name": "fm",
   "language": "python",
   "name": "fm"
  },
  "language_info": {
   "codemirror_mode": {
    "name": "ipython",
    "version": 3
   },
   "file_extension": ".py",
   "mimetype": "text/x-python",
   "name": "python",
   "nbconvert_exporter": "python",
   "pygments_lexer": "ipython3",
   "version": "3.9.12"
  }
 },
 "nbformat": 4,
 "nbformat_minor": 5
}
